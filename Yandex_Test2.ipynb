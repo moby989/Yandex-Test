{
 "cells": [
  {
   "cell_type": "code",
   "execution_count": 6,
   "metadata": {},
   "outputs": [],
   "source": [
    "import pandas as pd"
   ]
  },
  {
   "cell_type": "markdown",
   "metadata": {},
   "source": [
    "# Загружаем данные"
   ]
  },
  {
   "cell_type": "code",
   "execution_count": 729,
   "metadata": {},
   "outputs": [
    {
     "data": {
      "text/html": [
       "<div>\n",
       "<style scoped>\n",
       "    .dataframe tbody tr th:only-of-type {\n",
       "        vertical-align: middle;\n",
       "    }\n",
       "\n",
       "    .dataframe tbody tr th {\n",
       "        vertical-align: top;\n",
       "    }\n",
       "\n",
       "    .dataframe thead th {\n",
       "        text-align: right;\n",
       "    }\n",
       "</style>\n",
       "<table border=\"1\" class=\"dataframe\">\n",
       "  <thead>\n",
       "    <tr style=\"text-align: right;\">\n",
       "      <th></th>\n",
       "      <th>loc_lat</th>\n",
       "      <th>loc_lon</th>\n",
       "    </tr>\n",
       "    <tr>\n",
       "      <th>user_id</th>\n",
       "      <th></th>\n",
       "      <th></th>\n",
       "    </tr>\n",
       "  </thead>\n",
       "  <tbody>\n",
       "    <tr>\n",
       "      <th>1</th>\n",
       "      <td>55.737564</td>\n",
       "      <td>37.345186</td>\n",
       "    </tr>\n",
       "    <tr>\n",
       "      <th>2</th>\n",
       "      <td>56.234564</td>\n",
       "      <td>37.234590</td>\n",
       "    </tr>\n",
       "    <tr>\n",
       "      <th>3</th>\n",
       "      <td>55.234578</td>\n",
       "      <td>36.295745</td>\n",
       "    </tr>\n",
       "  </tbody>\n",
       "</table>\n",
       "</div>"
      ],
      "text/plain": [
       "           loc_lat    loc_lon\n",
       "user_id                      \n",
       "1        55.737564  37.345186\n",
       "2        56.234564  37.234590\n",
       "3        55.234578  36.295745"
      ]
     },
     "execution_count": 729,
     "metadata": {},
     "output_type": "execute_result"
    }
   ],
   "source": [
    "#user coordinates\n",
    "df_user = pd.read_csv('user_coordinates.csv', index_col = 'user_id')\n",
    "try:\n",
    "    df_user = df_user.applymap(lambda x: float(x.replace(',','.'))) #small formatting to make sure that loc data are floats\n",
    "except AttributeError:\n",
    "    pass\n",
    "\n",
    "df_user.head(10)"
   ]
  },
  {
   "cell_type": "code",
   "execution_count": 730,
   "metadata": {},
   "outputs": [
    {
     "data": {
      "text/html": [
       "<div>\n",
       "<style scoped>\n",
       "    .dataframe tbody tr th:only-of-type {\n",
       "        vertical-align: middle;\n",
       "    }\n",
       "\n",
       "    .dataframe tbody tr th {\n",
       "        vertical-align: top;\n",
       "    }\n",
       "\n",
       "    .dataframe thead th {\n",
       "        text-align: right;\n",
       "    }\n",
       "</style>\n",
       "<table border=\"1\" class=\"dataframe\">\n",
       "  <thead>\n",
       "    <tr style=\"text-align: right;\">\n",
       "      <th></th>\n",
       "      <th>place_id</th>\n",
       "      <th>loc_lat</th>\n",
       "      <th>loc_lon</th>\n",
       "      <th>point_number</th>\n",
       "    </tr>\n",
       "  </thead>\n",
       "  <tbody>\n",
       "    <tr>\n",
       "      <th>0</th>\n",
       "      <td>1</td>\n",
       "      <td>55.747022</td>\n",
       "      <td>37.787073</td>\n",
       "      <td>0</td>\n",
       "    </tr>\n",
       "    <tr>\n",
       "      <th>1</th>\n",
       "      <td>1</td>\n",
       "      <td>55.751713</td>\n",
       "      <td>37.784328</td>\n",
       "      <td>1</td>\n",
       "    </tr>\n",
       "    <tr>\n",
       "      <th>2</th>\n",
       "      <td>1</td>\n",
       "      <td>55.753878</td>\n",
       "      <td>37.777638</td>\n",
       "      <td>2</td>\n",
       "    </tr>\n",
       "    <tr>\n",
       "      <th>3</th>\n",
       "      <td>1</td>\n",
       "      <td>55.751031</td>\n",
       "      <td>37.779351</td>\n",
       "      <td>3</td>\n",
       "    </tr>\n",
       "    <tr>\n",
       "      <th>4</th>\n",
       "      <td>2</td>\n",
       "      <td>55.803885</td>\n",
       "      <td>37.458311</td>\n",
       "      <td>0</td>\n",
       "    </tr>\n",
       "    <tr>\n",
       "      <th>5</th>\n",
       "      <td>2</td>\n",
       "      <td>55.808677</td>\n",
       "      <td>37.464054</td>\n",
       "      <td>1</td>\n",
       "    </tr>\n",
       "    <tr>\n",
       "      <th>6</th>\n",
       "      <td>2</td>\n",
       "      <td>55.809763</td>\n",
       "      <td>37.461314</td>\n",
       "      <td>2</td>\n",
       "    </tr>\n",
       "    <tr>\n",
       "      <th>7</th>\n",
       "      <td>2</td>\n",
       "      <td>55.810840</td>\n",
       "      <td>37.458654</td>\n",
       "      <td>3</td>\n",
       "    </tr>\n",
       "  </tbody>\n",
       "</table>\n",
       "</div>"
      ],
      "text/plain": [
       "   place_id    loc_lat    loc_lon  point_number\n",
       "0         1  55.747022  37.787073             0\n",
       "1         1  55.751713  37.784328             1\n",
       "2         1  55.753878  37.777638             2\n",
       "3         1  55.751031  37.779351             3\n",
       "4         2  55.803885  37.458311             0\n",
       "5         2  55.808677  37.464054             1\n",
       "6         2  55.809763  37.461314             2\n",
       "7         2  55.810840  37.458654             3"
      ]
     },
     "execution_count": 730,
     "metadata": {},
     "output_type": "execute_result"
    }
   ],
   "source": [
    "#restaurant areas\n",
    "df_rest = pd.read_csv('place_zone_coordinates.csv',delimiter = ';')\n",
    "\n",
    "try:\n",
    "    df_rest[['loc_lat','loc_lon']] = df_rest[['loc_lat','loc_lon']].applymap(lambda x: float(x.replace(',','.'))).values.tolist()\n",
    "except AttributeError:\n",
    "    pass\n",
    "\n",
    "df_rest.head(10)"
   ]
  },
  {
   "cell_type": "markdown",
   "metadata": {},
   "source": [
    "# Логика решения"
   ]
  },
  {
   "cell_type": "raw",
   "metadata": {},
   "source": [
    "Алгоритм исходя из целей задачи должен выглядеть следующим образом:\n",
    "    \n",
    "1) Сделать итерацию по каждому пользователю\n",
    "2) Для каждого пользователя сделать итерацию по ресторанам и проверить, что геолокация пользователя попадает в полигон доставки ресторана.\n",
    "3) В том случае, если пользователь попадает в область доставки, увеличить счетчик по нему на 1.\n",
    "4) После прохождения всех ресторанов, внести данные с счетчика в таблицу с результатами.\n",
    "5) Перейти к след пользователю и повторить.\n",
    "\n",
    "Основная сложность состоит в том, чтобы проверить, попадают ли координаты пользователя в область доставки (другими словами находится ли точка в полигоне или вне его). Данная задача является уже хорошо описана в литературе и может быть решена несколькими методами. Подробнее здесь -->https://en.wikipedia.org/wiki/Point_in_polygon\n",
    "\n",
    "Метод \"луча\" является самым интуитивным и простым, поэтому я попробую использовать его. Он общий (те подходит для всех случаев, не только когда полигон правильный и состоит из 4 вершин). К тому же он имеет линейную зависимость количества вычислений от роста входящих данных, поэтому должен быть быстрый и не нагружать выч мощности при больших выборках.\n",
    "\n",
    "Его основной принцип состоит в подсчете того, сколько раз горизонтальный луч, вышедший из точки направо пересекает полигон. При четном количестве пересечений (или их отсутствии) мы заключаем, что точка находится вне полигона. Если количество пересечений нечетное, то точка находится внутри. Есть частный случай, когда луч, проходит через одну из вершин, тогда количество пересечений возможно как нечетное. Мы учтем его особенным образом в алгоритме, также как и случай когда точка находится на одной из граней полигона. \n",
    "\n",
    "Алгоритм будет построен таким образом, чтобы сделать итерации по всем граням полигона и проверить если пересечение по каждой из них. В том случае, если находится пересечение, то значение булевой переменной (которая изначально имеет значение False) будет меняться на противоположное, поэтому в случае если точка находится внутри полигона, финальное значение данной переменной должно быть True. Подробная логика проверок описана здесь -->http://philliplemons.com/posts/ray-casting-algorithm\n",
    "\n",
    "Мы также попробуем метод содержания точки в полигоне, реализованный в библиотеке Matplotlib и сравним результаты по скорости. А также сделаем графическую проверку решений."
   ]
  },
  {
   "cell_type": "markdown",
   "metadata": {},
   "source": [
    "# Решение с помощью метода пересекающего луча (метод 1)"
   ]
  },
  {
   "cell_type": "code",
   "execution_count": 20,
   "metadata": {},
   "outputs": [],
   "source": [
    "#define class Point and RestArea(Polygon)"
   ]
  },
  {
   "cell_type": "code",
   "execution_count": 47,
   "metadata": {},
   "outputs": [],
   "source": [
    "#some prep work\n",
    "\n",
    "import sys\n",
    "# _huge is used to act as infinity if we divide by 0\n",
    "_huge = sys.float_info.max\n",
    "# _eps is used to make sure points are not on the same line as vertexes\n",
    "_eps = 0.00001\n"
   ]
  },
  {
   "cell_type": "code",
   "execution_count": 560,
   "metadata": {},
   "outputs": [],
   "source": [
    "class Point:\n",
    "   \n",
    "    def __init__(self, x, y):\n",
    "        \"\"\"\n",
    "        Хранит координаты точки (вершины полигона или пользователя Сервиса) \n",
    "        \n",
    "        \"\"\"\n",
    "        self.x = x\n",
    "        self.y = y\n"
   ]
  },
  {
   "cell_type": "code",
   "execution_count": 561,
   "metadata": {},
   "outputs": [],
   "source": [
    "class Polygon:\n",
    "    \n",
    "    def __init__(self, df):\n",
    "        \"\"\"\n",
    "        Хранит список координат полигона, который обслуживается рестораном\n",
    "        \"\"\"\n",
    "        list = df[['loc_lat','loc_lon']].values.tolist()\n",
    "        self.points = [Point(float(x),float(y)) for x,y in list]\n",
    "        \n",
    "   \n",
    "    def edges(self):\n",
    "        ''' Метод возвращает список кортежей из координат пары точек сегмента, образующих полигон '''\n",
    "        edge_list = []\n",
    "        \n",
    "        for i,p in enumerate(self.points):\n",
    "            p1 = p\n",
    "            p2 = self.points[(i+1) % len(self.points)] #важно чтобы полигон был закрытый поэтому добавляем в конец еще раз вершину 0\n",
    "            edge_list.append((p1,p2))\n",
    "\n",
    "        return edge_list\n",
    "    \n",
    "    def contains(self, Point):\n",
    "\n",
    "        # Значение переменной изначально ставим на False, чтобы в случае четного пересечения граней полигона ее значение осталось тоже False\n",
    "        #False = точка находится вне полигона\n",
    "        inside = False\n",
    "\n",
    "        for edge in self.edges():\n",
    "            # Для каждой грани определим верх и них, точка А всегда должна быть внизу для корректной работы алгоритма\n",
    "            A, B = edge[0], edge[1]\n",
    "            if A.y > B.y:\n",
    "                A, B = B, A\n",
    "\n",
    "            # Если горизонтальный луч пересекает вершину, то мы добавляем маленькое значение для координаты точки, чтобы наши дальнейшие тесты не учитывали это пересечение\n",
    "            if Point.y == A.y or Point.y == B.y:\n",
    "                Point.y += _eps\n",
    "\n",
    "            # проверяем, что если луч проходит выше или ниже сегмента, либо находится справа, тогда пересечения нет, переходим к след итерации\n",
    "            if (Point.y > B.y or Point.y < A.y or Point.x > max(A.x, B.x)):             \n",
    "                continue\n",
    "\n",
    "            # точка находится левее самой левого конца сегмента (при том что она \"между\" А и B по горизонтали) => есть пересечение\n",
    "            if Point.x < min(A.x, B.x): \n",
    "                inside = not inside #фиксируем пересечение\n",
    "                continue\n",
    "\n",
    "            #здесь проверяем находится ли точка справа или слева от сегмента на основе угла наклона по отношению к точке А (которая нижняя)\n",
    "            try:\n",
    "                m_edge = (B.y - A.y) / (B.x - A.x)\n",
    "            except ZeroDivisionError: #вариант когда сегмент вертикален\n",
    "                m_edge = _huge\n",
    "\n",
    "            try:\n",
    "                m_Point = (Point.y - A.y) / (Point.x - A.x)\n",
    "            except ZeroDivisionError: #вариант когда точка лежит внутри сегмента\n",
    "                m_Point = _huge\n",
    "\n",
    "            if m_Point >= m_edge: #если угол наклона меньше, то точка лежит левее, те луч пересекает сегмент или случай когда сегмент вертикален и точка в нем\n",
    "                inside = not inside\n",
    "                continue\n",
    "            \n",
    "        return inside"
   ]
  },
  {
   "cell_type": "code",
   "execution_count": 562,
   "metadata": {},
   "outputs": [],
   "source": [
    "#Алгоритм"
   ]
  },
  {
   "cell_type": "code",
   "execution_count": 906,
   "metadata": {},
   "outputs": [],
   "source": [
    "def RayCastingMethod(df_rest,df_user):\n",
    "    df_output = pd.DataFrame()\n",
    "    for i,j in df_user.iterrows():\n",
    "        U = Point(j[0],j[1])\n",
    "    #    U = Point(55.752, 37.782) #можно проверить с данными входящими данными для пользователя, что алгоритм корректно работает\n",
    "        rest_count = 0\n",
    "        for m in df_rest['place_id'].unique():\n",
    "            P = Polygon(df_rest[df_rest['place_id'] ==m])                \n",
    "            if P.contains(U):\n",
    "                rest_count = +1\n",
    "        df_output.loc[i,'id'] = int(i)\n",
    "        df_output.loc[i,'number_of_places_available'] = rest_count   \n",
    "    return df_output"
   ]
  },
  {
   "cell_type": "markdown",
   "metadata": {},
   "source": [
    "# Результаты метода 1"
   ]
  },
  {
   "cell_type": "code",
   "execution_count": 907,
   "metadata": {},
   "outputs": [
    {
     "data": {
      "text/html": [
       "<div>\n",
       "<style scoped>\n",
       "    .dataframe tbody tr th:only-of-type {\n",
       "        vertical-align: middle;\n",
       "    }\n",
       "\n",
       "    .dataframe tbody tr th {\n",
       "        vertical-align: top;\n",
       "    }\n",
       "\n",
       "    .dataframe thead th {\n",
       "        text-align: right;\n",
       "    }\n",
       "</style>\n",
       "<table border=\"1\" class=\"dataframe\">\n",
       "  <thead>\n",
       "    <tr style=\"text-align: right;\">\n",
       "      <th></th>\n",
       "      <th>number_of_places_available</th>\n",
       "    </tr>\n",
       "    <tr>\n",
       "      <th>id</th>\n",
       "      <th></th>\n",
       "    </tr>\n",
       "  </thead>\n",
       "  <tbody>\n",
       "    <tr>\n",
       "      <th>1</th>\n",
       "      <td>0</td>\n",
       "    </tr>\n",
       "    <tr>\n",
       "      <th>2</th>\n",
       "      <td>0</td>\n",
       "    </tr>\n",
       "    <tr>\n",
       "      <th>3</th>\n",
       "      <td>0</td>\n",
       "    </tr>\n",
       "  </tbody>\n",
       "</table>\n",
       "</div>"
      ],
      "text/plain": [
       "    number_of_places_available\n",
       "id                            \n",
       "1                            0\n",
       "2                            0\n",
       "3                            0"
      ]
     },
     "execution_count": 907,
     "metadata": {},
     "output_type": "execute_result"
    }
   ],
   "source": [
    "df_output = RayCastingMethod(df_rest,df_user)\n",
    "df_output.astype(int).set_index('id')"
   ]
  },
  {
   "cell_type": "markdown",
   "metadata": {},
   "source": [
    "# Решение с помощью библиотеки Mathplotlib (метод 2)"
   ]
  },
  {
   "cell_type": "code",
   "execution_count": 799,
   "metadata": {},
   "outputs": [],
   "source": [
    "from matplotlib import path"
   ]
  },
  {
   "cell_type": "code",
   "execution_count": 901,
   "metadata": {},
   "outputs": [],
   "source": [
    "def MtplMethod(df_rest,df_user):\n",
    "    df = pd.DataFrame()\n",
    "    for i in df_rest['place_id'].unique():    \n",
    "        restaurant_area = df_rest[df_rest['place_id']==i][['loc_lat','loc_lon']].values.tolist()\n",
    "        p = path.Path(restaurant_area)\n",
    "        df = pd.concat([df,pd.DataFrame(p.contains_points(df_user))],axis = 1)\n",
    "    return df\n"
   ]
  },
  {
   "cell_type": "markdown",
   "metadata": {},
   "source": [
    "# Результаты метода 2"
   ]
  },
  {
   "cell_type": "code",
   "execution_count": 902,
   "metadata": {},
   "outputs": [
    {
     "data": {
      "text/html": [
       "<div>\n",
       "<style scoped>\n",
       "    .dataframe tbody tr th:only-of-type {\n",
       "        vertical-align: middle;\n",
       "    }\n",
       "\n",
       "    .dataframe tbody tr th {\n",
       "        vertical-align: top;\n",
       "    }\n",
       "\n",
       "    .dataframe thead th {\n",
       "        text-align: right;\n",
       "    }\n",
       "</style>\n",
       "<table border=\"1\" class=\"dataframe\">\n",
       "  <thead>\n",
       "    <tr style=\"text-align: right;\">\n",
       "      <th></th>\n",
       "      <th>number_of_places_available</th>\n",
       "    </tr>\n",
       "    <tr>\n",
       "      <th>id</th>\n",
       "      <th></th>\n",
       "    </tr>\n",
       "  </thead>\n",
       "  <tbody>\n",
       "    <tr>\n",
       "      <th>0</th>\n",
       "      <td>0</td>\n",
       "    </tr>\n",
       "    <tr>\n",
       "      <th>1</th>\n",
       "      <td>0</td>\n",
       "    </tr>\n",
       "    <tr>\n",
       "      <th>2</th>\n",
       "      <td>0</td>\n",
       "    </tr>\n",
       "  </tbody>\n",
       "</table>\n",
       "</div>"
      ],
      "text/plain": [
       "    number_of_places_available\n",
       "id                            \n",
       "0                            0\n",
       "1                            0\n",
       "2                            0"
      ]
     },
     "execution_count": 902,
     "metadata": {},
     "output_type": "execute_result"
    }
   ],
   "source": [
    "df = MtplMethod(df_rest,df_user)\n",
    "df  = df.sum(axis = 1).to_frame().rename(columns = {0:'number_of_places_available'})\n",
    "df = df.reindex(df.index.rename('id'))\n",
    "df"
   ]
  },
  {
   "cell_type": "markdown",
   "metadata": {},
   "source": [
    "# Сравнение скорости выполнения алгоритмов"
   ]
  },
  {
   "cell_type": "code",
   "execution_count": 910,
   "metadata": {},
   "outputs": [
    {
     "name": "stdout",
     "output_type": "stream",
     "text": [
      "Ray casting method:\n",
      "7.93 ms ± 190 µs per loop (mean ± std. dev. of 7 runs, 100 loops each)\n",
      "Using mathplotlib:\n",
      "2.36 ms ± 53.7 µs per loop (mean ± std. dev. of 7 runs, 100 loops each)\n"
     ]
    }
   ],
   "source": [
    "print('Ray casting method:')\n",
    "%timeit df_output = RayCastingMethod(df_rest,df_user)\n",
    "print('Using mathplotlib:')\n",
    "%timeit df_output = MtplMethod(df_rest,df_user)\n",
    "\n",
    "\n"
   ]
  },
  {
   "cell_type": "raw",
   "metadata": {},
   "source": [
    "Вывод:\n",
    "    \n",
    "Mathplotlib выполняет быстрее раза в 3. Возможно дело в том, что библиотека использует более быстрые алгоритмы, написанные на C."
   ]
  },
  {
   "cell_type": "markdown",
   "metadata": {},
   "source": [
    "# Проверка"
   ]
  },
  {
   "cell_type": "code",
   "execution_count": 335,
   "metadata": {},
   "outputs": [],
   "source": [
    "#checking\n",
    "import matplotlib.pyplot as plt"
   ]
  },
  {
   "cell_type": "code",
   "execution_count": 444,
   "metadata": {},
   "outputs": [],
   "source": [
    "#рестораны"
   ]
  },
  {
   "cell_type": "code",
   "execution_count": 448,
   "metadata": {},
   "outputs": [
    {
     "data": {
      "image/png": "[encoded data removed]",
      "text/plain": [
       "<Figure size 432x288 with 1 Axes>"
      ]
     },
     "metadata": {
      "needs_background": "light"
     },
     "output_type": "display_data"
    },
    {
     "data": {
      "image/png": "[encoded data removed]",
      "text/plain": [
       "<Figure size 432x288 with 1 Axes>"
      ]
     },
     "metadata": {
      "needs_background": "light"
     },
     "output_type": "display_data"
    }
   ],
   "source": [
    "for i in df_rest['place_id'].unique():\n",
    "    df_rest_help = df_rest[df_rest['place_id']==i]\n",
    "    plt.title('Place '+str(df_rest_help.iloc[0,0]))\n",
    "    coord = df_rest_help[['loc_lat','loc_lon']]\n",
    "    coord = coord.append(coord[:1]) #repeat the first point to create a 'closed loop'\n",
    "    plt.plot(coord['loc_lat'],coord['loc_lon'])\n",
    "    plt.show()\n",
    "   "
   ]
  },
  {
   "cell_type": "code",
   "execution_count": 450,
   "metadata": {},
   "outputs": [],
   "source": [
    "# рестораны и пользователи"
   ]
  },
  {
   "cell_type": "code",
   "execution_count": 490,
   "metadata": {},
   "outputs": [
    {
     "data": {
      "image/png": "[encoded data removed]",
      "text/plain": [
       "<Figure size 720x360 with 1 Axes>"
      ]
     },
     "metadata": {
      "needs_background": "light"
     },
     "output_type": "display_data"
    }
   ],
   "source": [
    "try:\n",
    "    df_rest[['loc_lat','loc_lon']] = df_rest[['loc_lat','loc_lon']].applymap(lambda x:float(x.replace(',','.')))\n",
    "except AttributeError:\n",
    "    pass\n",
    "\n",
    "fig, ax = plt.subplots(figsize = (10,5))\n",
    "plt.title('Локации пользователей и ресторанов')\n",
    "for place_id in df_rest['place_id'].unique():\n",
    "    coord = df_rest[df_rest['place_id']==place_id][['loc_lat','loc_lon']]\n",
    "    coord = coord.append(coord[:1]) #repeat the first point to create a 'closed loop'\n",
    "    ax.plot(coord['loc_lat'],coord['loc_lon'])\n",
    "df_user.plot(kind = 'scatter',x = ['loc_lat'],y = ['loc_lon'],ax = ax)\n",
    "#plt.scatter(x = 55.752, y = 37.782)\n",
    "\n",
    "for i,j in df_user.iterrows():\n",
    "    ax.annotate('User '+str(i),(j[0]-0.05,j[1]+0.05))\n",
    "    \n",
    "for i in df_rest['place_id'].unique():\n",
    "    df_rest_help = df_rest[df_rest['place_id']==i]\n",
    "    x = df_rest_help.iloc[0][1]\n",
    "    y = df_rest_help.iloc[0][2]\n",
    "    id = int(df_rest_help.iloc[0][0])\n",
    "    ax.annotate('Place '+str(id),(x+0.05,y))\n",
    "        \n",
    "plt.show()"
   ]
  }
 ],
 "metadata": {
  "kernelspec": {
   "display_name": "Python 3",
   "language": "python",
   "name": "python3"
  },
  "language_info": {
   "codemirror_mode": {
    "name": "ipython",
    "version": 3
   },
   "file_extension": ".py",
   "mimetype": "text/x-python",
   "name": "python",
   "nbconvert_exporter": "python",
   "pygments_lexer": "ipython3",
   "version": "3.7.3"
  }
 },
 "nbformat": 4,
 "nbformat_minor": 4
}
